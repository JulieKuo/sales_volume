{
 "cells": [
  {
   "cell_type": "markdown",
   "metadata": {},
   "source": [
    "# Train"
   ]
  },
  {
   "cell_type": "code",
   "execution_count": 1,
   "metadata": {},
   "outputs": [
    {
     "name": "stdout",
     "output_type": "stream",
     "text": [
      "eyJtb2RlbF9wYXRoIjogIkQ6XFxKdWxpZVxcZGV2ZWxvcFxcY29tb3NzXFxtb2RlbHNcXDIwMjIxMDI4MTU1NyIsICJsb2dfcGF0aCI6ICJEOi9KdWxpZS9kZXZlbG9wXFxjb21vc3NcXGxvZ3NcXHNhbGVzX3RyYWluLmxvZyJ9\n"
     ]
    }
   ],
   "source": [
    "import json, base64\n",
    "s = {\n",
    "    \"model_path\": \"D:\\\\Julie\\\\develop\\\\comoss\\\\models\\\\202210281557\",\n",
    "    \"log_path\": \"D:/Julie/develop\\\\comoss\\\\logs\\\\sales_train.log\",\n",
    "}\n",
    "s = json.dumps(s)\n",
    "\n",
    "b = s.encode(\"UTF-8\")\n",
    "e = base64.b64encode(b)\n",
    "s1 = e.decode(\"UTF-8\")\n",
    "print(s1)"
   ]
  },
  {
   "cell_type": "code",
   "execution_count": 2,
   "metadata": {},
   "outputs": [
    {
     "name": "stdout",
     "output_type": "stream",
     "text": [
      "python run.py \"train\" eyJtb2RlbF9wYXRoIjogIkQ6XFxKdWxpZVxcZGV2ZWxvcFxcY29tb3NzXFxtb2RlbHNcXDIwMjIxMDI4MTU1NyIsICJsb2dfcGF0aCI6ICJEOi9KdWxpZS9kZXZlbG9wXFxjb21vc3NcXGxvZ3NcXHNhbGVzX3RyYWluLmxvZyJ9\n"
     ]
    }
   ],
   "source": [
    "# python \n",
    "print(f'python run.py \"train\" {s1}')"
   ]
  },
  {
   "cell_type": "code",
   "execution_count": 3,
   "metadata": {},
   "outputs": [
    {
     "name": "stdout",
     "output_type": "stream",
     "text": [
      "./a3_run.exe \"train\" eyJtb2RlbF9wYXRoIjogIkQ6XFxKdWxpZVxcZGV2ZWxvcFxcY29tb3NzXFxtb2RlbHNcXDIwMjIxMDI4MTU1NyIsICJsb2dfcGF0aCI6ICJEOi9KdWxpZS9kZXZlbG9wXFxjb21vc3NcXGxvZ3NcXHNhbGVzX3RyYWluLmxvZyJ9\n"
     ]
    }
   ],
   "source": [
    "# exe \n",
    "print(f'./a3_run.exe \"train\" {s1}')"
   ]
  },
  {
   "cell_type": "code",
   "execution_count": 4,
   "metadata": {},
   "outputs": [
    {
     "name": "stdout",
     "output_type": "stream",
     "text": [
      "./a3_train.bat eyJtb2RlbF9wYXRoIjogIkQ6XFxKdWxpZVxcZGV2ZWxvcFxcY29tb3NzXFxtb2RlbHNcXDIwMjIxMDI4MTU1NyIsICJsb2dfcGF0aCI6ICJEOi9KdWxpZS9kZXZlbG9wXFxjb21vc3NcXGxvZ3NcXHNhbGVzX3RyYWluLmxvZyJ9\n"
     ]
    }
   ],
   "source": [
    "# bat\n",
    "print(f'./a3_train.bat {s1}')"
   ]
  },
  {
   "cell_type": "markdown",
   "metadata": {},
   "source": [
    "# Predict"
   ]
  },
  {
   "cell_type": "code",
   "execution_count": 5,
   "metadata": {},
   "outputs": [
    {
     "name": "stdout",
     "output_type": "stream",
     "text": [
      "eyJFWFBFQ1QiOiAiRDpcXEp1bGllXFxkZXZlbG9wXFxjb21vc3NcXGRhdGFcXGVzdGltYXRlc19xdHkuY3N2IiwgIk9VVFBVVCI6ICJEOlxcSnVsaWVcXGRldmVsb3BcXGNvbW9zc1xcb3V0cHV0IiwgIlBST0RVQ1QiOiAiRDpcXEp1bGllXFxkZXZlbG9wXFxjb21vc3NcXHByb2R1Y3Rfc2VyaWVzLmNzdiIsICJNT0RFTCI6ICJEOlxcSnVsaWVcXGRldmVsb3BcXGNvbW9zc1xcbW9kZWxzXFwyMDIyMTAyODE1NTciLCAiTE9HIjogIkQ6XFxKdWxpZVxcZGV2ZWxvcFxcY29tb3NzXFxsb2dzXFxzYWxlc19wcmVkaWN0LmxvZyIsICJTVEFSVCI6ICIyMDIxIiwgIkVORCI6IDIwMjJ9\n"
     ]
    }
   ],
   "source": [
    "import json, base64\n",
    "s = {\n",
    "\t\"EXPECT\": \"D:\\\\Julie\\\\develop\\\\comoss\\\\data\\\\estimates_qty.csv\",\n",
    "\t\"OUTPUT\": \"D:\\\\Julie\\\\develop\\\\comoss\\\\output\",\n",
    "\t\"PRODUCT\": \"D:\\\\Julie\\\\develop\\\\comoss\\\\product_series.csv\",\n",
    "    \"MODEL\": \"D:\\\\Julie\\\\develop\\\\comoss\\\\models\\\\202210281557\",\n",
    "\t\"LOG\": \"D:\\\\Julie\\\\develop\\\\comoss\\\\logs\\\\sales_predict.log\",\n",
    "\t\"START\": \"2021\",\n",
    "\t\"END\": 2022,\n",
    "}\n",
    "s = json.dumps(s)\n",
    "\n",
    "b = s.encode(\"UTF-8\")\n",
    "e = base64.b64encode(b)\n",
    "s1 = e.decode(\"UTF-8\")\n",
    "print(s1)"
   ]
  },
  {
   "cell_type": "code",
   "execution_count": 6,
   "metadata": {},
   "outputs": [
    {
     "name": "stdout",
     "output_type": "stream",
     "text": [
      "python run.py \"predict\" eyJFWFBFQ1QiOiAiRDpcXEp1bGllXFxkZXZlbG9wXFxjb21vc3NcXGRhdGFcXGVzdGltYXRlc19xdHkuY3N2IiwgIk9VVFBVVCI6ICJEOlxcSnVsaWVcXGRldmVsb3BcXGNvbW9zc1xcb3V0cHV0IiwgIlBST0RVQ1QiOiAiRDpcXEp1bGllXFxkZXZlbG9wXFxjb21vc3NcXHByb2R1Y3Rfc2VyaWVzLmNzdiIsICJNT0RFTCI6ICJEOlxcSnVsaWVcXGRldmVsb3BcXGNvbW9zc1xcbW9kZWxzXFwyMDIyMTAyODE1NTciLCAiTE9HIjogIkQ6XFxKdWxpZVxcZGV2ZWxvcFxcY29tb3NzXFxsb2dzXFxzYWxlc19wcmVkaWN0LmxvZyIsICJTVEFSVCI6ICIyMDIxIiwgIkVORCI6IDIwMjJ9\n"
     ]
    }
   ],
   "source": [
    "# python \n",
    "print(f'python run.py \"predict\" {s1}')"
   ]
  },
  {
   "cell_type": "code",
   "execution_count": 7,
   "metadata": {},
   "outputs": [
    {
     "name": "stdout",
     "output_type": "stream",
     "text": [
      "./a3_run.exe \"predict\" eyJFWFBFQ1QiOiAiRDpcXEp1bGllXFxkZXZlbG9wXFxjb21vc3NcXGRhdGFcXGVzdGltYXRlc19xdHkuY3N2IiwgIk9VVFBVVCI6ICJEOlxcSnVsaWVcXGRldmVsb3BcXGNvbW9zc1xcb3V0cHV0IiwgIlBST0RVQ1QiOiAiRDpcXEp1bGllXFxkZXZlbG9wXFxjb21vc3NcXHByb2R1Y3Rfc2VyaWVzLmNzdiIsICJNT0RFTCI6ICJEOlxcSnVsaWVcXGRldmVsb3BcXGNvbW9zc1xcbW9kZWxzXFwyMDIyMTAyODE1NTciLCAiTE9HIjogIkQ6XFxKdWxpZVxcZGV2ZWxvcFxcY29tb3NzXFxsb2dzXFxzYWxlc19wcmVkaWN0LmxvZyIsICJTVEFSVCI6ICIyMDIxIiwgIkVORCI6IDIwMjJ9\n"
     ]
    }
   ],
   "source": [
    "# exe \n",
    "print(f'./a3_run.exe \"predict\" {s1}')"
   ]
  },
  {
   "cell_type": "code",
   "execution_count": 8,
   "metadata": {},
   "outputs": [
    {
     "name": "stdout",
     "output_type": "stream",
     "text": [
      "./a3_pred.bat eyJFWFBFQ1QiOiAiRDpcXEp1bGllXFxkZXZlbG9wXFxjb21vc3NcXGRhdGFcXGVzdGltYXRlc19xdHkuY3N2IiwgIk9VVFBVVCI6ICJEOlxcSnVsaWVcXGRldmVsb3BcXGNvbW9zc1xcb3V0cHV0IiwgIlBST0RVQ1QiOiAiRDpcXEp1bGllXFxkZXZlbG9wXFxjb21vc3NcXHByb2R1Y3Rfc2VyaWVzLmNzdiIsICJNT0RFTCI6ICJEOlxcSnVsaWVcXGRldmVsb3BcXGNvbW9zc1xcbW9kZWxzXFwyMDIyMTAyODE1NTciLCAiTE9HIjogIkQ6XFxKdWxpZVxcZGV2ZWxvcFxcY29tb3NzXFxsb2dzXFxzYWxlc19wcmVkaWN0LmxvZyIsICJTVEFSVCI6ICIyMDIxIiwgIkVORCI6IDIwMjJ9\n"
     ]
    }
   ],
   "source": [
    "# bat\n",
    "print(f'./a3_pred.bat {s1}')"
   ]
  }
 ],
 "metadata": {
  "kernelspec": {
   "display_name": "Python 3.8.10 ('.venv': venv)",
   "language": "python",
   "name": "python3"
  },
  "language_info": {
   "codemirror_mode": {
    "name": "ipython",
    "version": 3
   },
   "file_extension": ".py",
   "mimetype": "text/x-python",
   "name": "python",
   "nbconvert_exporter": "python",
   "pygments_lexer": "ipython3",
   "version": "3.8.10"
  },
  "orig_nbformat": 4,
  "vscode": {
   "interpreter": {
    "hash": "6c2898c30be5f73b03e044cf4b0ab3750666a8191d61a4c93b022a132c823988"
   }
  }
 },
 "nbformat": 4,
 "nbformat_minor": 2
}
