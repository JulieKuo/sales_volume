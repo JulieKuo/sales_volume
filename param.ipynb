{
 "cells": [
  {
   "cell_type": "markdown",
   "metadata": {},
   "source": [
    "# Train"
   ]
  },
  {
   "cell_type": "code",
   "execution_count": 1,
   "metadata": {},
   "outputs": [
    {
     "name": "stdout",
     "output_type": "stream",
     "text": [
      "eyJtb2RlbF9wYXRoIjogImM6XFxVc2Vyc1xcdHp1bGlcXERvY3VtZW50c1xccHl0aG9uXFxjb21vc3NcXG1vZGVsc1xcMjAyMjEwMjgxNTU3IiwgImxvZ19wYXRoIjogImM6XFxVc2Vyc1xcdHp1bGlcXERvY3VtZW50c1xccHl0aG9uXFxjb21vc3NcXGxvZ3NcXHNhbGVzX3RyYWluLmxvZyJ9\n"
     ]
    }
   ],
   "source": [
    "import json, base64, os\n",
    "s = {\n",
    "    \"model_path\": os.path.join(os.getcwd(), \"models\\\\202210281557\"),\n",
    "    \"log_path\": os.path.join(os.getcwd(), \"logs\\\\sales_train.log\"),\n",
    "}\n",
    "s = json.dumps(s)\n",
    "\n",
    "b = s.encode(\"UTF-8\")\n",
    "e = base64.b64encode(b)\n",
    "s1 = e.decode(\"UTF-8\")\n",
    "print(s1)"
   ]
  },
  {
   "cell_type": "code",
   "execution_count": 2,
   "metadata": {},
   "outputs": [
    {
     "name": "stdout",
     "output_type": "stream",
     "text": [
      "python run.py \"train\" eyJtb2RlbF9wYXRoIjogImM6XFxVc2Vyc1xcdHp1bGlcXERvY3VtZW50c1xccHl0aG9uXFxjb21vc3NcXG1vZGVsc1xcMjAyMjEwMjgxNTU3IiwgImxvZ19wYXRoIjogImM6XFxVc2Vyc1xcdHp1bGlcXERvY3VtZW50c1xccHl0aG9uXFxjb21vc3NcXGxvZ3NcXHNhbGVzX3RyYWluLmxvZyJ9\n"
     ]
    }
   ],
   "source": [
    "# python \n",
    "print(f'python run.py \"train\" {s1}')"
   ]
  },
  {
   "cell_type": "code",
   "execution_count": 3,
   "metadata": {},
   "outputs": [
    {
     "name": "stdout",
     "output_type": "stream",
     "text": [
      "./a3_run.exe \"train\" eyJtb2RlbF9wYXRoIjogImM6XFxVc2Vyc1xcdHp1bGlcXERvY3VtZW50c1xccHl0aG9uXFxjb21vc3NcXG1vZGVsc1xcMjAyMjEwMjgxNTU3IiwgImxvZ19wYXRoIjogImM6XFxVc2Vyc1xcdHp1bGlcXERvY3VtZW50c1xccHl0aG9uXFxjb21vc3NcXGxvZ3NcXHNhbGVzX3RyYWluLmxvZyJ9\n"
     ]
    }
   ],
   "source": [
    "# exe \n",
    "print(f'./a3_run.exe \"train\" {s1}')"
   ]
  },
  {
   "cell_type": "code",
   "execution_count": 4,
   "metadata": {},
   "outputs": [
    {
     "name": "stdout",
     "output_type": "stream",
     "text": [
      "./a3_train.bat eyJtb2RlbF9wYXRoIjogImM6XFxVc2Vyc1xcdHp1bGlcXERvY3VtZW50c1xccHl0aG9uXFxjb21vc3NcXG1vZGVsc1xcMjAyMjEwMjgxNTU3IiwgImxvZ19wYXRoIjogImM6XFxVc2Vyc1xcdHp1bGlcXERvY3VtZW50c1xccHl0aG9uXFxjb21vc3NcXGxvZ3NcXHNhbGVzX3RyYWluLmxvZyJ9\n"
     ]
    }
   ],
   "source": [
    "# bat\n",
    "print(f'./a3_train.bat {s1}')"
   ]
  },
  {
   "cell_type": "markdown",
   "metadata": {},
   "source": [
    "# Predict"
   ]
  },
  {
   "cell_type": "code",
   "execution_count": 5,
   "metadata": {},
   "outputs": [
    {
     "name": "stdout",
     "output_type": "stream",
     "text": [
      "eyJFWFBFQ1QiOiAiYzpcXFVzZXJzXFx0enVsaVxcRG9jdW1lbnRzXFxweXRob25cXGNvbW9zc1xcZGF0YVxcZXN0aW1hdGVzX3F0eS5jc3YiLCAiT1VUUFVUIjogImM6XFxVc2Vyc1xcdHp1bGlcXERvY3VtZW50c1xccHl0aG9uXFxjb21vc3NcXG91dHB1dCIsICJQUk9EVUNUIjogImM6XFxVc2Vyc1xcdHp1bGlcXERvY3VtZW50c1xccHl0aG9uXFxjb21vc3NcXHByb2R1Y3Rfc2VyaWVzLmNzdiIsICJNT0RFTCI6ICJjOlxcVXNlcnNcXHR6dWxpXFxEb2N1bWVudHNcXHB5dGhvblxcY29tb3NzXFxtb2RlbHNcXDIwMjIxMDI4MTU1NyIsICJMT0ciOiAiYzpcXFVzZXJzXFx0enVsaVxcRG9jdW1lbnRzXFxweXRob25cXGNvbW9zc1xcbG9nc1xcc2FsZXNfcHJlZGljdC5sb2ciLCAiU1RBUlQiOiAiMjAyMSIsICJFTkQiOiAiMjAyMiJ9\n"
     ]
    }
   ],
   "source": [
    "import json, base64, os\n",
    "s = {\n",
    "\t\"EXPECT\": os.path.join(os.getcwd(), \"data\\\\estimates_qty.csv\"),\n",
    "\t\"OUTPUT\": os.path.join(os.getcwd(), \"output\"),\n",
    "\t\"PRODUCT\": os.path.join(os.getcwd(), \"product_series.csv\"),\n",
    "    \"MODEL\": os.path.join(os.getcwd(), \"models\\\\202210281557\"),\n",
    "\t\"LOG\": os.path.join(os.getcwd(), \"logs\\\\sales_predict.log\"),\n",
    "\t\"START\": \"2021\",\n",
    "\t\"END\": \"2022\",\n",
    "}\n",
    "s = json.dumps(s)\n",
    "\n",
    "b = s.encode(\"UTF-8\")\n",
    "e = base64.b64encode(b)\n",
    "s1 = e.decode(\"UTF-8\")\n",
    "print(s1)"
   ]
  },
  {
   "cell_type": "code",
   "execution_count": 6,
   "metadata": {},
   "outputs": [
    {
     "name": "stdout",
     "output_type": "stream",
     "text": [
      "python run.py \"predict\" eyJFWFBFQ1QiOiAiYzpcXFVzZXJzXFx0enVsaVxcRG9jdW1lbnRzXFxweXRob25cXGNvbW9zc1xcZGF0YVxcZXN0aW1hdGVzX3F0eS5jc3YiLCAiT1VUUFVUIjogImM6XFxVc2Vyc1xcdHp1bGlcXERvY3VtZW50c1xccHl0aG9uXFxjb21vc3NcXG91dHB1dCIsICJQUk9EVUNUIjogImM6XFxVc2Vyc1xcdHp1bGlcXERvY3VtZW50c1xccHl0aG9uXFxjb21vc3NcXHByb2R1Y3Rfc2VyaWVzLmNzdiIsICJNT0RFTCI6ICJjOlxcVXNlcnNcXHR6dWxpXFxEb2N1bWVudHNcXHB5dGhvblxcY29tb3NzXFxtb2RlbHNcXDIwMjIxMDI4MTU1NyIsICJMT0ciOiAiYzpcXFVzZXJzXFx0enVsaVxcRG9jdW1lbnRzXFxweXRob25cXGNvbW9zc1xcbG9nc1xcc2FsZXNfcHJlZGljdC5sb2ciLCAiU1RBUlQiOiAiMjAyMSIsICJFTkQiOiAiMjAyMiJ9\n"
     ]
    }
   ],
   "source": [
    "# python \n",
    "print(f'python run.py \"predict\" {s1}')"
   ]
  },
  {
   "cell_type": "code",
   "execution_count": 7,
   "metadata": {},
   "outputs": [
    {
     "name": "stdout",
     "output_type": "stream",
     "text": [
      "./a3_run.exe \"predict\" eyJFWFBFQ1QiOiAiYzpcXFVzZXJzXFx0enVsaVxcRG9jdW1lbnRzXFxweXRob25cXGNvbW9zc1xcZGF0YVxcZXN0aW1hdGVzX3F0eS5jc3YiLCAiT1VUUFVUIjogImM6XFxVc2Vyc1xcdHp1bGlcXERvY3VtZW50c1xccHl0aG9uXFxjb21vc3NcXG91dHB1dCIsICJQUk9EVUNUIjogImM6XFxVc2Vyc1xcdHp1bGlcXERvY3VtZW50c1xccHl0aG9uXFxjb21vc3NcXHByb2R1Y3Rfc2VyaWVzLmNzdiIsICJNT0RFTCI6ICJjOlxcVXNlcnNcXHR6dWxpXFxEb2N1bWVudHNcXHB5dGhvblxcY29tb3NzXFxtb2RlbHNcXDIwMjIxMDI4MTU1NyIsICJMT0ciOiAiYzpcXFVzZXJzXFx0enVsaVxcRG9jdW1lbnRzXFxweXRob25cXGNvbW9zc1xcbG9nc1xcc2FsZXNfcHJlZGljdC5sb2ciLCAiU1RBUlQiOiAiMjAyMSIsICJFTkQiOiAiMjAyMiJ9\n"
     ]
    }
   ],
   "source": [
    "# exe \n",
    "print(f'./a3_run.exe \"predict\" {s1}')"
   ]
  },
  {
   "cell_type": "code",
   "execution_count": 8,
   "metadata": {},
   "outputs": [
    {
     "name": "stdout",
     "output_type": "stream",
     "text": [
      "./a3_pred.bat eyJFWFBFQ1QiOiAiYzpcXFVzZXJzXFx0enVsaVxcRG9jdW1lbnRzXFxweXRob25cXGNvbW9zc1xcZGF0YVxcZXN0aW1hdGVzX3F0eS5jc3YiLCAiT1VUUFVUIjogImM6XFxVc2Vyc1xcdHp1bGlcXERvY3VtZW50c1xccHl0aG9uXFxjb21vc3NcXG91dHB1dCIsICJQUk9EVUNUIjogImM6XFxVc2Vyc1xcdHp1bGlcXERvY3VtZW50c1xccHl0aG9uXFxjb21vc3NcXHByb2R1Y3Rfc2VyaWVzLmNzdiIsICJNT0RFTCI6ICJjOlxcVXNlcnNcXHR6dWxpXFxEb2N1bWVudHNcXHB5dGhvblxcY29tb3NzXFxtb2RlbHNcXDIwMjIxMDI4MTU1NyIsICJMT0ciOiAiYzpcXFVzZXJzXFx0enVsaVxcRG9jdW1lbnRzXFxweXRob25cXGNvbW9zc1xcbG9nc1xcc2FsZXNfcHJlZGljdC5sb2ciLCAiU1RBUlQiOiAiMjAyMSIsICJFTkQiOiAiMjAyMiJ9\n"
     ]
    }
   ],
   "source": [
    "# bat\n",
    "print(f'./a3_pred.bat {s1}')"
   ]
  }
 ],
 "metadata": {
  "kernelspec": {
   "display_name": "Python 3.8.7 ('.sar': venv)",
   "language": "python",
   "name": "python3"
  },
  "language_info": {
   "codemirror_mode": {
    "name": "ipython",
    "version": 3
   },
   "file_extension": ".py",
   "mimetype": "text/x-python",
   "name": "python",
   "nbconvert_exporter": "python",
   "pygments_lexer": "ipython3",
   "version": "3.8.7"
  },
  "orig_nbformat": 4,
  "vscode": {
   "interpreter": {
    "hash": "4b3bed0e3e859eed817920df843b60ae28bf236cd2c20594d20757d4a26e1783"
   }
  }
 },
 "nbformat": 4,
 "nbformat_minor": 2
}
